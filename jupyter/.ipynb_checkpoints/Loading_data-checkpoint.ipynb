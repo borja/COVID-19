{
 "cells": [
  {
   "cell_type": "code",
   "execution_count": 1,
   "metadata": {},
   "outputs": [
    {
     "data": {
      "text/html": [
       "<div>\n",
       "<style scoped>\n",
       "    .dataframe tbody tr th:only-of-type {\n",
       "        vertical-align: middle;\n",
       "    }\n",
       "\n",
       "    .dataframe tbody tr th {\n",
       "        vertical-align: top;\n",
       "    }\n",
       "\n",
       "    .dataframe thead th {\n",
       "        text-align: right;\n",
       "    }\n",
       "</style>\n",
       "<table border=\"1\" class=\"dataframe\">\n",
       "  <thead>\n",
       "    <tr style=\"text-align: right;\">\n",
       "      <th></th>\n",
       "      <th>ID</th>\n",
       "      <th>CCAA</th>\n",
       "      <th>Casos</th>\n",
       "      <th>IA</th>\n",
       "      <th>UCI</th>\n",
       "      <th>Fallecidos</th>\n",
       "      <th>Hospitalizados</th>\n",
       "      <th>Nuevos</th>\n",
       "      <th>Curados</th>\n",
       "      <th>Fecha</th>\n",
       "    </tr>\n",
       "  </thead>\n",
       "  <tbody>\n",
       "    <tr>\n",
       "      <th>13</th>\n",
       "      <td>942</td>\n",
       "      <td>Madrid</td>\n",
       "      <td>1388</td>\n",
       "      <td>20.77</td>\n",
       "      <td>135</td>\n",
       "      <td>56</td>\n",
       "      <td>NaN</td>\n",
       "      <td>NaN</td>\n",
       "      <td>NaN</td>\n",
       "      <td>../data/covi1203.csv</td>\n",
       "    </tr>\n",
       "    <tr>\n",
       "      <th>14</th>\n",
       "      <td>952</td>\n",
       "      <td>Murcia</td>\n",
       "      <td>26</td>\n",
       "      <td>1.74</td>\n",
       "      <td>1</td>\n",
       "      <td>0</td>\n",
       "      <td>NaN</td>\n",
       "      <td>NaN</td>\n",
       "      <td>NaN</td>\n",
       "      <td>../data/covi1203.csv</td>\n",
       "    </tr>\n",
       "    <tr>\n",
       "      <th>15</th>\n",
       "      <td>943</td>\n",
       "      <td>Navarra</td>\n",
       "      <td>73</td>\n",
       "      <td>11.16</td>\n",
       "      <td>3</td>\n",
       "      <td>0</td>\n",
       "      <td>NaN</td>\n",
       "      <td>NaN</td>\n",
       "      <td>NaN</td>\n",
       "      <td>../data/covi1203.csv</td>\n",
       "    </tr>\n",
       "    <tr>\n",
       "      <th>16</th>\n",
       "      <td>950</td>\n",
       "      <td>País Vasco</td>\n",
       "      <td>346</td>\n",
       "      <td>15.67</td>\n",
       "      <td>18</td>\n",
       "      <td>11</td>\n",
       "      <td>NaN</td>\n",
       "      <td>NaN</td>\n",
       "      <td>NaN</td>\n",
       "      <td>../data/covi1203.csv</td>\n",
       "    </tr>\n",
       "    <tr>\n",
       "      <th>17</th>\n",
       "      <td>949</td>\n",
       "      <td>La Rioja</td>\n",
       "      <td>205</td>\n",
       "      <td>64.71</td>\n",
       "      <td>1</td>\n",
       "      <td>2</td>\n",
       "      <td>NaN</td>\n",
       "      <td>NaN</td>\n",
       "      <td>NaN</td>\n",
       "      <td>../data/covi1203.csv</td>\n",
       "    </tr>\n",
       "  </tbody>\n",
       "</table>\n",
       "</div>"
      ],
      "text/plain": [
       "     ID        CCAA  Casos     IA  UCI  Fallecidos  Hospitalizados  Nuevos  \\\n",
       "13  942      Madrid   1388  20.77  135          56             NaN     NaN   \n",
       "14  952      Murcia     26   1.74    1           0             NaN     NaN   \n",
       "15  943     Navarra     73  11.16    3           0             NaN     NaN   \n",
       "16  950  País Vasco    346  15.67   18          11             NaN     NaN   \n",
       "17  949    La Rioja    205  64.71    1           2             NaN     NaN   \n",
       "\n",
       "    Curados                 Fecha  \n",
       "13      NaN  ../data/covi1203.csv  \n",
       "14      NaN  ../data/covi1203.csv  \n",
       "15      NaN  ../data/covi1203.csv  \n",
       "16      NaN  ../data/covi1203.csv  \n",
       "17      NaN  ../data/covi1203.csv  "
      ]
     },
     "execution_count": 1,
     "metadata": {},
     "output_type": "execute_result"
    }
   ],
   "source": [
    "# Load Data\n",
    "import glob \n",
    "import pandas as pd\n",
    "\n",
    "def Carga_All_Files( ):\n",
    "    regexp='../data/covi*'\n",
    "    df = pd.DataFrame()\n",
    "    # Iterate trough LIST DIR and \n",
    "    for my_file in glob.glob(regexp):\n",
    "        this_df = pd.read_csv(my_file)\n",
    "        this_df['Fecha'] = my_file\n",
    "        df = pd.concat([df,this_df])\n",
    "    return df  \n",
    "\n",
    "df = Carga_All_Files( )\n",
    "\n",
    "df.tail()\n"
   ]
  },
  {
   "cell_type": "code",
   "execution_count": 2,
   "metadata": {},
   "outputs": [],
   "source": [
    "def Get_Comunidades_List( ):\n",
    "    return Carga_All_Files( )['CCAA'].unique()"
   ]
  },
  {
   "cell_type": "code",
   "execution_count": 3,
   "metadata": {},
   "outputs": [],
   "source": [
    "#Get_Comunidades_List()"
   ]
  },
  {
   "cell_type": "code",
   "execution_count": 4,
   "metadata": {},
   "outputs": [],
   "source": [
    "def Preprocesado():\n",
    "    df = Carga_All_Files( )\n",
    "    # Formateamos la fecha\n",
    "    df['Fecha'].replace({\n",
    "        '../data/covi': '2020-',\n",
    "        '.csv'        : ''}, inplace=True, regex=True)\n",
    "    df['Fecha'] =  pd.to_datetime(df['Fecha'], format='%Y-%d%m')\n",
    "    # \n",
    "    \n",
    "    return df.sort_values(by='Fecha')\n",
    "\n",
    "df = Preprocesado()\n"
   ]
  },
  {
   "cell_type": "code",
   "execution_count": 5,
   "metadata": {},
   "outputs": [],
   "source": [
    "import numpy as np\n",
    "\n",
    "def Enrich_Columns(comunidad):\n",
    "    del comunidad['ID']\n",
    "    del comunidad['IA']\n",
    "    del comunidad['Nuevos']\n",
    "\n",
    "    if 'Fecha' in comunidad.columns :\n",
    "        comunidad.set_index('Fecha', inplace=True) \n",
    "\n",
    "    # Datos de fallecimientos diarios, en totales y tanto por uno.\n",
    "    comunidad['Fallecidos hoy absoluto'] = comunidad['Fallecidos'] - comunidad['Fallecidos'].shift(1)\n",
    "    comunidad['Fallecidos hoy porcentaje'] = comunidad['Fallecidos hoy absoluto']  / comunidad['Fallecidos'] \n",
    "    comunidad['Fallecidos hoy variacion respecto ayer'] = comunidad['Fallecidos hoy absoluto'] - comunidad['Fallecidos hoy absoluto'].shift(1)\n",
    "\n",
    "    # Datos de Casos diarios,  en totales y tanto por uno.\n",
    "    comunidad['Casos hoy absoluto'] = comunidad['Casos'] - comunidad['Casos'].shift(1)\n",
    "    comunidad['Casos hoy porcentaje'] = comunidad['Casos hoy absoluto']  / comunidad['Casos'] \n",
    "    comunidad['Casos hoy variacion respecto ayer'] = comunidad['Casos hoy absoluto'] - comunidad['Casos hoy absoluto'].shift(1)\n",
    "\n",
    "    # Convertimos a entero, para quitar decimales\n",
    "    CONVERT_INT_COLUMNS = ['Fallecidos hoy absoluto', \n",
    "                           'Fallecidos hoy variacion respecto ayer',\n",
    "                           'Casos hoy variacion respecto ayer',\n",
    "                           'Casos hoy absoluto',\n",
    "                           'Hospitalizados',\n",
    "                           'Curados']\n",
    "    for column in CONVERT_INT_COLUMNS :\n",
    "        comunidad[column] = comunidad[column].fillna(0)\n",
    "        comunidad[column] = comunidad[column].astype(np.int64)\n",
    "        \n",
    "    comunidad['Proporcion Curados / Casos'] = comunidad['Curados'] / comunidad['Casos'] \n",
    "    comunidad['Curados hoy absoluto']       = comunidad['Curados'] - comunidad['Casos'].shift(1)\n",
    "\n",
    "    comunidad['Casos excluidos curados'] = comunidad['Casos'] - comunidad['Curados']  \n",
    "\n",
    "    # ordenamos las filas y columnas\n",
    "    columnsTitles = ['CCAA', \n",
    "                     'Casos'     , 'Casos hoy absoluto'     , 'Casos hoy variacion respecto ayer', 'Casos hoy porcentaje'      ,\n",
    "                     'Fallecidos', 'Fallecidos hoy absoluto', 'Fallecidos hoy variacion respecto ayer', 'Fallecidos hoy porcentaje' ,\n",
    "                     'Curados',\n",
    "                     'Casos excluidos curados',\n",
    "                     'Curados hoy absoluto',\n",
    "                     'Proporcion Curados / Casos',\n",
    "                     'UCI',  \n",
    "                     'Hospitalizados']\n",
    "    comunidad = comunidad.reindex(columns=columnsTitles)\n",
    "    comunidad = comunidad.sort_values(by=['Fecha'], ascending=False)\n",
    "    comunidad = comunidad.rename(columns = {'CCAA':'Lugar'})\n",
    "\n",
    "    return comunidad\n",
    "\n",
    "def Get_Comunidad(nombre_comunidad):\n",
    "    # Trabajamos solo con una comunidad\n",
    "    df = Preprocesado()\n",
    "    df = df[(df['CCAA'] == nombre_comunidad)].sort_values(by='Fecha')\n",
    "    df = Enrich_Columns(df)\n",
    "    return df\n",
    "\n",
    "def Get_Nacion():\n",
    "    df = Preprocesado()\n",
    "    df = df.sort_values(by='Fecha')\n",
    "    df = df.groupby(['Fecha']).sum()\n",
    "    df['CCAA'] = 'España'\n",
    "    df = Enrich_Columns(df)\n",
    "    return df\n"
   ]
  },
  {
   "cell_type": "code",
   "execution_count": 6,
   "metadata": {
    "scrolled": true
   },
   "outputs": [
    {
     "ename": "AttributeError",
     "evalue": "'Series' object has no attribute 'Curados'",
     "output_type": "error",
     "traceback": [
      "\u001b[0;31m---------------------------------------------------------------------------\u001b[0m",
      "\u001b[0;31mAttributeError\u001b[0m                            Traceback (most recent call last)",
      "\u001b[0;32m<ipython-input-6-e8e43ee3361c>\u001b[0m in \u001b[0;36m<module>\u001b[0;34m\u001b[0m\n\u001b[1;32m      4\u001b[0m     \u001b[0;32mreturn\u001b[0m \u001b[0mcomunidad\u001b[0m\u001b[0;34m\u001b[0m\u001b[0;34m\u001b[0m\u001b[0m\n\u001b[1;32m      5\u001b[0m \u001b[0;34m\u001b[0m\u001b[0m\n\u001b[0;32m----> 6\u001b[0;31m \u001b[0mDebug_Get_Comunidad\u001b[0m\u001b[0;34m(\u001b[0m\u001b[0;34m)\u001b[0m\u001b[0;34m\u001b[0m\u001b[0;34m\u001b[0m\u001b[0m\n\u001b[0m\u001b[1;32m      7\u001b[0m \u001b[0;34m\u001b[0m\u001b[0m\n",
      "\u001b[0;32m<ipython-input-6-e8e43ee3361c>\u001b[0m in \u001b[0;36mDebug_Get_Comunidad\u001b[0;34m()\u001b[0m\n\u001b[1;32m      1\u001b[0m \u001b[0;31m# Just for debug purposes\u001b[0m\u001b[0;34m\u001b[0m\u001b[0;34m\u001b[0m\u001b[0;34m\u001b[0m\u001b[0m\n\u001b[1;32m      2\u001b[0m \u001b[0;32mdef\u001b[0m \u001b[0mDebug_Get_Comunidad\u001b[0m\u001b[0;34m(\u001b[0m\u001b[0;34m)\u001b[0m\u001b[0;34m:\u001b[0m\u001b[0;34m\u001b[0m\u001b[0;34m\u001b[0m\u001b[0m\n\u001b[0;32m----> 3\u001b[0;31m     \u001b[0mcomunidad\u001b[0m \u001b[0;34m=\u001b[0m \u001b[0mGet_Comunidad\u001b[0m\u001b[0;34m(\u001b[0m\u001b[0;34m'Madrid'\u001b[0m\u001b[0;34m)\u001b[0m\u001b[0;34m\u001b[0m\u001b[0;34m\u001b[0m\u001b[0m\n\u001b[0m\u001b[1;32m      4\u001b[0m     \u001b[0;32mreturn\u001b[0m \u001b[0mcomunidad\u001b[0m\u001b[0;34m\u001b[0m\u001b[0;34m\u001b[0m\u001b[0m\n\u001b[1;32m      5\u001b[0m \u001b[0;34m\u001b[0m\u001b[0m\n",
      "\u001b[0;32m<ipython-input-5-c909f252c808>\u001b[0m in \u001b[0;36mGet_Comunidad\u001b[0;34m(nombre_comunidad)\u001b[0m\n\u001b[1;32m     55\u001b[0m     \u001b[0mdf\u001b[0m \u001b[0;34m=\u001b[0m \u001b[0mPreprocesado\u001b[0m\u001b[0;34m(\u001b[0m\u001b[0;34m)\u001b[0m\u001b[0;34m\u001b[0m\u001b[0;34m\u001b[0m\u001b[0m\n\u001b[1;32m     56\u001b[0m     \u001b[0mdf\u001b[0m \u001b[0;34m=\u001b[0m \u001b[0mdf\u001b[0m\u001b[0;34m[\u001b[0m\u001b[0;34m(\u001b[0m\u001b[0mdf\u001b[0m\u001b[0;34m[\u001b[0m\u001b[0;34m'CCAA'\u001b[0m\u001b[0;34m]\u001b[0m \u001b[0;34m==\u001b[0m \u001b[0mnombre_comunidad\u001b[0m\u001b[0;34m)\u001b[0m\u001b[0;34m]\u001b[0m\u001b[0;34m.\u001b[0m\u001b[0msort_values\u001b[0m\u001b[0;34m(\u001b[0m\u001b[0mby\u001b[0m\u001b[0;34m=\u001b[0m\u001b[0;34m'Fecha'\u001b[0m\u001b[0;34m)\u001b[0m\u001b[0;34m\u001b[0m\u001b[0;34m\u001b[0m\u001b[0m\n\u001b[0;32m---> 57\u001b[0;31m     \u001b[0mdf\u001b[0m \u001b[0;34m=\u001b[0m \u001b[0mEnrich_Columns\u001b[0m\u001b[0;34m(\u001b[0m\u001b[0mdf\u001b[0m\u001b[0;34m)\u001b[0m\u001b[0;34m\u001b[0m\u001b[0;34m\u001b[0m\u001b[0m\n\u001b[0m\u001b[1;32m     58\u001b[0m     \u001b[0;32mreturn\u001b[0m \u001b[0mdf\u001b[0m\u001b[0;34m\u001b[0m\u001b[0;34m\u001b[0m\u001b[0m\n\u001b[1;32m     59\u001b[0m \u001b[0;34m\u001b[0m\u001b[0m\n",
      "\u001b[0;32m<ipython-input-5-c909f252c808>\u001b[0m in \u001b[0;36mEnrich_Columns\u001b[0;34m(comunidad)\u001b[0m\n\u001b[1;32m     31\u001b[0m \u001b[0;34m\u001b[0m\u001b[0m\n\u001b[1;32m     32\u001b[0m     \u001b[0mcomunidad\u001b[0m\u001b[0;34m[\u001b[0m\u001b[0;34m'Proporcion Curados / Casos'\u001b[0m\u001b[0;34m]\u001b[0m \u001b[0;34m=\u001b[0m \u001b[0mcomunidad\u001b[0m\u001b[0;34m[\u001b[0m\u001b[0;34m'Curados'\u001b[0m\u001b[0;34m]\u001b[0m \u001b[0;34m/\u001b[0m \u001b[0mcomunidad\u001b[0m\u001b[0;34m[\u001b[0m\u001b[0;34m'Casos'\u001b[0m\u001b[0;34m]\u001b[0m\u001b[0;34m\u001b[0m\u001b[0;34m\u001b[0m\u001b[0m\n\u001b[0;32m---> 33\u001b[0;31m     \u001b[0mcomunidad\u001b[0m\u001b[0;34m[\u001b[0m\u001b[0;34m'Curados hoy absoluto'\u001b[0m\u001b[0;34m]\u001b[0m       \u001b[0;34m=\u001b[0m \u001b[0mcomunidad\u001b[0m\u001b[0;34m[\u001b[0m\u001b[0;34m'Curados'\u001b[0m\u001b[0;34m]\u001b[0m \u001b[0;34m-\u001b[0m \u001b[0mcomunidad\u001b[0m\u001b[0;34m[\u001b[0m\u001b[0;34m'Casos'\u001b[0m\u001b[0;34m]\u001b[0m\u001b[0;34m.\u001b[0m\u001b[0mCurados\u001b[0m\u001b[0;34m(\u001b[0m\u001b[0;36m1\u001b[0m\u001b[0;34m)\u001b[0m\u001b[0;34m\u001b[0m\u001b[0;34m\u001b[0m\u001b[0m\n\u001b[0m\u001b[1;32m     34\u001b[0m \u001b[0;34m\u001b[0m\u001b[0m\n\u001b[1;32m     35\u001b[0m     \u001b[0mcomunidad\u001b[0m\u001b[0;34m[\u001b[0m\u001b[0;34m'Casos excluidos curados'\u001b[0m\u001b[0;34m]\u001b[0m \u001b[0;34m=\u001b[0m \u001b[0mcomunidad\u001b[0m\u001b[0;34m[\u001b[0m\u001b[0;34m'Casos'\u001b[0m\u001b[0;34m]\u001b[0m \u001b[0;34m-\u001b[0m \u001b[0mcomunidad\u001b[0m\u001b[0;34m[\u001b[0m\u001b[0;34m'Curados'\u001b[0m\u001b[0;34m]\u001b[0m\u001b[0;34m\u001b[0m\u001b[0;34m\u001b[0m\u001b[0m\n",
      "\u001b[0;32m~/miniconda3/envs/jupyter/lib/python3.8/site-packages/pandas/core/generic.py\u001b[0m in \u001b[0;36m__getattr__\u001b[0;34m(self, name)\u001b[0m\n\u001b[1;32m   5272\u001b[0m             \u001b[0;32mif\u001b[0m \u001b[0mself\u001b[0m\u001b[0;34m.\u001b[0m\u001b[0m_info_axis\u001b[0m\u001b[0;34m.\u001b[0m\u001b[0m_can_hold_identifiers_and_holds_name\u001b[0m\u001b[0;34m(\u001b[0m\u001b[0mname\u001b[0m\u001b[0;34m)\u001b[0m\u001b[0;34m:\u001b[0m\u001b[0;34m\u001b[0m\u001b[0;34m\u001b[0m\u001b[0m\n\u001b[1;32m   5273\u001b[0m                 \u001b[0;32mreturn\u001b[0m \u001b[0mself\u001b[0m\u001b[0;34m[\u001b[0m\u001b[0mname\u001b[0m\u001b[0;34m]\u001b[0m\u001b[0;34m\u001b[0m\u001b[0;34m\u001b[0m\u001b[0m\n\u001b[0;32m-> 5274\u001b[0;31m             \u001b[0;32mreturn\u001b[0m \u001b[0mobject\u001b[0m\u001b[0;34m.\u001b[0m\u001b[0m__getattribute__\u001b[0m\u001b[0;34m(\u001b[0m\u001b[0mself\u001b[0m\u001b[0;34m,\u001b[0m \u001b[0mname\u001b[0m\u001b[0;34m)\u001b[0m\u001b[0;34m\u001b[0m\u001b[0;34m\u001b[0m\u001b[0m\n\u001b[0m\u001b[1;32m   5275\u001b[0m \u001b[0;34m\u001b[0m\u001b[0m\n\u001b[1;32m   5276\u001b[0m     \u001b[0;32mdef\u001b[0m \u001b[0m__setattr__\u001b[0m\u001b[0;34m(\u001b[0m\u001b[0mself\u001b[0m\u001b[0;34m,\u001b[0m \u001b[0mname\u001b[0m\u001b[0;34m:\u001b[0m \u001b[0mstr\u001b[0m\u001b[0;34m,\u001b[0m \u001b[0mvalue\u001b[0m\u001b[0;34m)\u001b[0m \u001b[0;34m->\u001b[0m \u001b[0;32mNone\u001b[0m\u001b[0;34m:\u001b[0m\u001b[0;34m\u001b[0m\u001b[0;34m\u001b[0m\u001b[0m\n",
      "\u001b[0;31mAttributeError\u001b[0m: 'Series' object has no attribute 'Curados'"
     ]
    }
   ],
   "source": [
    "# Just for debug purposes\n",
    "def Debug_Get_Comunidad():\n",
    "    comunidad = Get_Comunidad('Madrid')\n",
    "    return comunidad\n",
    "\n",
    "Debug_Get_Comunidad()\n",
    "\n"
   ]
  },
  {
   "cell_type": "code",
   "execution_count": null,
   "metadata": {},
   "outputs": [],
   "source": [
    "# Just for debug purposes\n",
    "def Debug_Get_Nacion():\n",
    "    return Get_Nacion()\n",
    "\n",
    "Debug_Get_Nacion()\n"
   ]
  },
  {
   "cell_type": "code",
   "execution_count": null,
   "metadata": {},
   "outputs": [],
   "source": [
    "\n"
   ]
  },
  {
   "cell_type": "code",
   "execution_count": null,
   "metadata": {},
   "outputs": [],
   "source": []
  }
 ],
 "metadata": {
  "kernelspec": {
   "display_name": "Python 3",
   "language": "python",
   "name": "python3"
  },
  "language_info": {
   "codemirror_mode": {
    "name": "ipython",
    "version": 3
   },
   "file_extension": ".py",
   "mimetype": "text/x-python",
   "name": "python",
   "nbconvert_exporter": "python",
   "pygments_lexer": "ipython3",
   "version": "3.8.1"
  },
  "varInspector": {
   "cols": {
    "lenName": 16,
    "lenType": 16,
    "lenVar": 40
   },
   "kernels_config": {
    "python": {
     "delete_cmd_postfix": "",
     "delete_cmd_prefix": "del ",
     "library": "var_list.py",
     "varRefreshCmd": "print(var_dic_list())"
    },
    "r": {
     "delete_cmd_postfix": ") ",
     "delete_cmd_prefix": "rm(",
     "library": "var_list.r",
     "varRefreshCmd": "cat(var_dic_list()) "
    }
   },
   "types_to_exclude": [
    "module",
    "function",
    "builtin_function_or_method",
    "instance",
    "_Feature"
   ],
   "window_display": false
  }
 },
 "nbformat": 4,
 "nbformat_minor": 2
}

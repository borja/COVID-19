{
 "cells": [
  {
   "cell_type": "markdown",
   "metadata": {},
   "source": [
    "Para actualizar diaramente la info, y regenerar los pyton"
   ]
  },
  {
   "cell_type": "code",
   "execution_count": 3,
   "metadata": {},
   "outputs": [
    {
     "name": "stdout",
     "output_type": "stream",
     "text": [
      "[NbConvertApp] Converting notebook Loading_data.ipynb to script\n",
      "[NbConvertApp] Writing 4177 bytes to Loading_data.py\n",
      "-rw-r--r--  1 jaimevalero  staff  56194 27 mar 15:05 Loading_data.ipynb\n",
      "-rw-r--r--  1 jaimevalero  staff   4178 27 mar 15:05 Loading_data.py\n"
     ]
    }
   ],
   "source": [
    "! jupyter nbconvert --to script 'Loading_data.ipynb'\n",
    "! ls -altr Loading_data.*"
   ]
  },
  {
   "cell_type": "code",
   "execution_count": 4,
   "metadata": {},
   "outputs": [
    {
     "name": "stdout",
     "output_type": "stream",
     "text": [
      "-rw-r--r--  1 jaimevalero  staff  500 23 mar 09:16 ../data/covi0503.csv\n",
      "-rw-r--r--  1 jaimevalero  staff  497 23 mar 09:16 ../data/covi0603.csv\n",
      "-rw-r--r--  1 jaimevalero  staff  510 23 mar 09:16 ../data/covi0903.csv\n",
      "-rw-r--r--  1 jaimevalero  staff  513 23 mar 09:16 ../data/covi1003.csv\n",
      "-rw-r--r--  1 jaimevalero  staff  521 23 mar 09:16 ../data/covi1103.csv\n",
      "-rw-r--r--  1 jaimevalero  staff  525 23 mar 09:16 ../data/covi1203.csv\n",
      "-rw-r--r--  1 jaimevalero  staff  534 23 mar 09:16 ../data/covi1303.csv\n",
      "-rw-r--r--  1 jaimevalero  staff  552 23 mar 09:16 ../data/covi1603.csv\n",
      "-rw-r--r--  1 jaimevalero  staff  565 23 mar 09:16 ../data/covi1703.csv\n",
      "-rw-r--r--  1 jaimevalero  staff  568 23 mar 09:16 ../data/covi1803.csv\n",
      "-rw-r--r--  1 jaimevalero  staff  576 23 mar 09:16 ../data/covi1903.csv\n",
      "-rw-r--r--  1 jaimevalero  staff  584 23 mar 09:16 ../data/covi2003.csv\n",
      "-rw-r--r--  1 jaimevalero  staff  742 23 mar 09:16 ../data/covi2103.csv\n",
      "-rw-r--r--  1 jaimevalero  staff  746 23 mar 09:16 ../data/covi2203.csv\n",
      "-rw-r--r--  1 jaimevalero  staff  827 23 mar 12:33 ../data/covi2303.csv\n",
      "-rw-r--r--  1 jaimevalero  staff  839 24 mar 12:21 ../data/covi2403.csv\n",
      "-rw-r--r--  1 jaimevalero  staff  848 25 mar 11:59 ../data/covi2503.csv\n",
      "-rw-r--r--  1 jaimevalero  staff  850 26 mar 12:33 ../data/covi2603.csv\n",
      "-rw-r--r--  1 jaimevalero  staff  863 27 mar 12:12 ../data/covi2703.csv\n",
      "[master 2754900] Refactor\n",
      " 2 files changed, 1091 insertions(+), 25 deletions(-)\n",
      "fatal: remote original already exists.\n",
      "From github.com:Eclectikus/COVID-19\n",
      " * branch            master     -> FETCH_HEAD\n",
      "Already up to date.\n"
     ]
    }
   ],
   "source": [
    "# load data\n",
    "! ls -latr ../data/*.csv | tail\n",
    "# Añadimos un segundo remoto al original, para trabajar con los datos actualizados\n",
    "! cd ..\n",
    "! git add . \n",
    "! git commit -m \"Refactor\"\n",
    "! git remote add original git@github.com:Eclectikus/COVID-19.git\n",
    "! git pull -f original master\n",
    "\n"
   ]
  },
  {
   "cell_type": "code",
   "execution_count": null,
   "metadata": {},
   "outputs": [],
   "source": []
  }
 ],
 "metadata": {
  "kernelspec": {
   "display_name": "Python 3",
   "language": "python",
   "name": "python3"
  },
  "language_info": {
   "codemirror_mode": {
    "name": "ipython",
    "version": 3
   },
   "file_extension": ".py",
   "mimetype": "text/x-python",
   "name": "python",
   "nbconvert_exporter": "python",
   "pygments_lexer": "ipython3",
   "version": "3.8.1"
  },
  "varInspector": {
   "cols": {
    "lenName": 16,
    "lenType": 16,
    "lenVar": 40
   },
   "kernels_config": {
    "python": {
     "delete_cmd_postfix": "",
     "delete_cmd_prefix": "del ",
     "library": "var_list.py",
     "varRefreshCmd": "print(var_dic_list())"
    },
    "r": {
     "delete_cmd_postfix": ") ",
     "delete_cmd_prefix": "rm(",
     "library": "var_list.r",
     "varRefreshCmd": "cat(var_dic_list()) "
    }
   },
   "types_to_exclude": [
    "module",
    "function",
    "builtin_function_or_method",
    "instance",
    "_Feature"
   ],
   "window_display": false
  }
 },
 "nbformat": 4,
 "nbformat_minor": 4
}
